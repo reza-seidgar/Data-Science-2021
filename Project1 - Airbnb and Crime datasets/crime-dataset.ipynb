{
  "nbformat": 4,
  "nbformat_minor": 0,
  "metadata": {
    "colab": {
      "name": "SecData.ipynb",
      "provenance": [],
      "collapsed_sections": []
    },
    "kernelspec": {
      "name": "python3",
      "display_name": "Python 3"
    },
    "language_info": {
      "name": "python"
    }
  },
  "cells": [
    {
      "cell_type": "code",
      "metadata": {
        "id": "dhYSM1tIle3p"
      },
      "source": [
        "import pandas as pd\n",
        "import numpy as np\n",
        "import matplotlib.pyplot as plt\n",
        "import seaborn as sb\n",
        "import random\n",
        "import math\n",
        "import statistics as stat\n",
        "from scipy import stats"
      ],
      "execution_count": 1,
      "outputs": []
    },
    {
      "cell_type": "code",
      "metadata": {
        "colab": {
          "base_uri": "https://localhost:8080/"
        },
        "id": "zAh2d2vknzi7",
        "outputId": "60949b68-bf81-4a11-e78c-5f558f4dbfa0"
      },
      "source": [
        "from google.colab import drive\n",
        "drive.mount('/gdrive')"
      ],
      "execution_count": 2,
      "outputs": [
        {
          "output_type": "stream",
          "name": "stdout",
          "text": [
            "Mounted at /gdrive\n"
          ]
        }
      ]
    },
    {
      "cell_type": "code",
      "metadata": {
        "colab": {
          "base_uri": "https://localhost:8080/"
        },
        "id": "6vkwVuM7n0DL",
        "outputId": "da0fa1ce-0110-4576-f6d2-437243fd9c3e"
      },
      "source": [
        "from google.colab import drive\n",
        "drive.mount('/content/drive')"
      ],
      "execution_count": 3,
      "outputs": [
        {
          "output_type": "stream",
          "name": "stdout",
          "text": [
            "Mounted at /content/drive\n"
          ]
        }
      ]
    },
    {
      "cell_type": "code",
      "metadata": {
        "colab": {
          "base_uri": "https://localhost:8080/",
          "height": 445
        },
        "id": "X1mcSaPepI9D",
        "outputId": "f5709fdb-590c-4fac-9966-a7877f6cbf20"
      },
      "source": [
        "data2018 = pd.read_csv('/content/drive/MyDrive/Crime_Data_2018 (1).csv')\n",
        "data2018.head()"
      ],
      "execution_count": 4,
      "outputs": [
        {
          "output_type": "execute_result",
          "data": {
            "text/html": [
              "<div>\n",
              "<style scoped>\n",
              "    .dataframe tbody tr th:only-of-type {\n",
              "        vertical-align: middle;\n",
              "    }\n",
              "\n",
              "    .dataframe tbody tr th {\n",
              "        vertical-align: top;\n",
              "    }\n",
              "\n",
              "    .dataframe thead th {\n",
              "        text-align: right;\n",
              "    }\n",
              "</style>\n",
              "<table border=\"1\" class=\"dataframe\">\n",
              "  <thead>\n",
              "    <tr style=\"text-align: right;\">\n",
              "      <th></th>\n",
              "      <th>INCIDENT_NUMBER</th>\n",
              "      <th>DATE_REPORTED</th>\n",
              "      <th>DATE_OCCURED</th>\n",
              "      <th>UOR_DESC</th>\n",
              "      <th>CRIME_TYPE</th>\n",
              "      <th>NIBRS_CODE</th>\n",
              "      <th>UCR_HIERARCHY</th>\n",
              "      <th>ATT_COMP</th>\n",
              "      <th>LMPD_DIVISION</th>\n",
              "      <th>LMPD_BEAT</th>\n",
              "      <th>PREMISE_TYPE</th>\n",
              "      <th>BLOCK_ADDRESS</th>\n",
              "      <th>CITY</th>\n",
              "      <th>ZIP_CODE</th>\n",
              "      <th>ID</th>\n",
              "    </tr>\n",
              "  </thead>\n",
              "  <tbody>\n",
              "    <tr>\n",
              "      <th>0</th>\n",
              "      <td>80-18-037885</td>\n",
              "      <td>5/19/2018 22:16</td>\n",
              "      <td>5/19/2018 21:30</td>\n",
              "      <td>BURGLARY - 2ND DEGREE</td>\n",
              "      <td>BURGLARY</td>\n",
              "      <td>220</td>\n",
              "      <td>PART I</td>\n",
              "      <td>COMPLETED</td>\n",
              "      <td>4TH DIVISION</td>\n",
              "      <td>424</td>\n",
              "      <td>RESIDENCE / HOME</td>\n",
              "      <td>3300 BLOCK DEARCY AVE                         ...</td>\n",
              "      <td>LOUISVILLE</td>\n",
              "      <td>40215.0</td>\n",
              "      <td>455888</td>\n",
              "    </tr>\n",
              "    <tr>\n",
              "      <th>1</th>\n",
              "      <td>80-18-037894</td>\n",
              "      <td>5/19/2018 22:54</td>\n",
              "      <td>5/19/2018 22:40</td>\n",
              "      <td>CRIMINAL MISCHIEF-3RD DEGREE</td>\n",
              "      <td>VANDALISM</td>\n",
              "      <td>290</td>\n",
              "      <td>PART II</td>\n",
              "      <td>COMPLETED</td>\n",
              "      <td>2ND DIVISION</td>\n",
              "      <td>212</td>\n",
              "      <td>RESIDENCE / HOME</td>\n",
              "      <td>600 BLOCK LINDELL AVE                         ...</td>\n",
              "      <td>LOUISVILLE</td>\n",
              "      <td>40211.0</td>\n",
              "      <td>455889</td>\n",
              "    </tr>\n",
              "    <tr>\n",
              "      <th>2</th>\n",
              "      <td>80-18-032150</td>\n",
              "      <td>4/30/2018 20:37</td>\n",
              "      <td>4/30/2018 20:37</td>\n",
              "      <td>TBUT OR DISP ALL OTHERS &lt;  $500</td>\n",
              "      <td>THEFT/LARCENY</td>\n",
              "      <td>23H</td>\n",
              "      <td>PART I</td>\n",
              "      <td>COMPLETED</td>\n",
              "      <td>4TH DIVISION</td>\n",
              "      <td>412</td>\n",
              "      <td>RESIDENCE / HOME</td>\n",
              "      <td>700 BLOCK S CLAY ST                           ...</td>\n",
              "      <td>LOUISVILLE</td>\n",
              "      <td>40203.0</td>\n",
              "      <td>455890</td>\n",
              "    </tr>\n",
              "    <tr>\n",
              "      <th>3</th>\n",
              "      <td>80-18-037844</td>\n",
              "      <td>5/19/2018 19:19</td>\n",
              "      <td>5/18/2018 19:19</td>\n",
              "      <td>BURGLARY - 2ND DEGREE</td>\n",
              "      <td>BURGLARY</td>\n",
              "      <td>220</td>\n",
              "      <td>PART I</td>\n",
              "      <td>COMPLETED</td>\n",
              "      <td>6TH DIVISION</td>\n",
              "      <td>624</td>\n",
              "      <td>RESIDENCE / HOME</td>\n",
              "      <td>200 BLOCK ELDORADO AVE                        ...</td>\n",
              "      <td>LOUISVILLE</td>\n",
              "      <td>40218.0</td>\n",
              "      <td>455891</td>\n",
              "    </tr>\n",
              "    <tr>\n",
              "      <th>4</th>\n",
              "      <td>80-18-037844</td>\n",
              "      <td>5/19/2018 19:19</td>\n",
              "      <td>5/18/2018 19:19</td>\n",
              "      <td>CRIMINAL MISCHIEF-3RD DEGREE</td>\n",
              "      <td>VANDALISM</td>\n",
              "      <td>290</td>\n",
              "      <td>PART II</td>\n",
              "      <td>COMPLETED</td>\n",
              "      <td>6TH DIVISION</td>\n",
              "      <td>624</td>\n",
              "      <td>RESIDENCE / HOME</td>\n",
              "      <td>200 BLOCK ELDORADO AVE                        ...</td>\n",
              "      <td>LOUISVILLE</td>\n",
              "      <td>40218.0</td>\n",
              "      <td>455892</td>\n",
              "    </tr>\n",
              "  </tbody>\n",
              "</table>\n",
              "</div>"
            ],
            "text/plain": [
              "  INCIDENT_NUMBER    DATE_REPORTED  ... ZIP_CODE      ID\n",
              "0    80-18-037885  5/19/2018 22:16  ...  40215.0  455888\n",
              "1    80-18-037894  5/19/2018 22:54  ...  40211.0  455889\n",
              "2    80-18-032150  4/30/2018 20:37  ...  40203.0  455890\n",
              "3    80-18-037844  5/19/2018 19:19  ...  40218.0  455891\n",
              "4    80-18-037844  5/19/2018 19:19  ...  40218.0  455892\n",
              "\n",
              "[5 rows x 15 columns]"
            ]
          },
          "metadata": {},
          "execution_count": 4
        }
      ]
    },
    {
      "cell_type": "code",
      "metadata": {
        "colab": {
          "base_uri": "https://localhost:8080/",
          "height": 547
        },
        "id": "kYT2f0C5pKOt",
        "outputId": "4d4fd566-31ef-49ad-dad3-545ebf1d444c"
      },
      "source": [
        "data2017 = pd.read_csv('/content/drive/MyDrive/Crime_Data_2017_9.csv')\n",
        "data2017.head()"
      ],
      "execution_count": 5,
      "outputs": [
        {
          "output_type": "stream",
          "name": "stderr",
          "text": [
            "/usr/local/lib/python3.7/dist-packages/IPython/core/interactiveshell.py:2718: DtypeWarning: Columns (13) have mixed types.Specify dtype option on import or set low_memory=False.\n",
            "  interactivity=interactivity, compiler=compiler, result=result)\n"
          ]
        },
        {
          "output_type": "execute_result",
          "data": {
            "text/html": [
              "<div>\n",
              "<style scoped>\n",
              "    .dataframe tbody tr th:only-of-type {\n",
              "        vertical-align: middle;\n",
              "    }\n",
              "\n",
              "    .dataframe tbody tr th {\n",
              "        vertical-align: top;\n",
              "    }\n",
              "\n",
              "    .dataframe thead th {\n",
              "        text-align: right;\n",
              "    }\n",
              "</style>\n",
              "<table border=\"1\" class=\"dataframe\">\n",
              "  <thead>\n",
              "    <tr style=\"text-align: right;\">\n",
              "      <th></th>\n",
              "      <th>INCIDENT_NUMBER</th>\n",
              "      <th>DATE_REPORTED</th>\n",
              "      <th>DATE_OCCURED</th>\n",
              "      <th>UOR_DESC</th>\n",
              "      <th>CRIME_TYPE</th>\n",
              "      <th>NIBRS_CODE</th>\n",
              "      <th>UCR_HIERARCHY</th>\n",
              "      <th>ATT_COMP</th>\n",
              "      <th>LMPD_DIVISION</th>\n",
              "      <th>LMPD_BEAT</th>\n",
              "      <th>PREMISE_TYPE</th>\n",
              "      <th>BLOCK_ADDRESS</th>\n",
              "      <th>CITY</th>\n",
              "      <th>ZIP_CODE</th>\n",
              "      <th>ID</th>\n",
              "    </tr>\n",
              "  </thead>\n",
              "  <tbody>\n",
              "    <tr>\n",
              "      <th>0</th>\n",
              "      <td>80-16-111411</td>\n",
              "      <td>2017-01-01 08:24:55</td>\n",
              "      <td>2016-12-30 21:00:00</td>\n",
              "      <td>TBUT OR DISP ALL OTHERS &lt;  $500</td>\n",
              "      <td>THEFT/LARCENY</td>\n",
              "      <td>23H</td>\n",
              "      <td>PART I</td>\n",
              "      <td>COMPLETED</td>\n",
              "      <td>2ND DIVISION</td>\n",
              "      <td>223</td>\n",
              "      <td>HIGHWAY / ROAD / ALLEY</td>\n",
              "      <td>1600 BLOCK DUMESNIL ST                        ...</td>\n",
              "      <td>LOUISVILLE</td>\n",
              "      <td>40210</td>\n",
              "      <td>1062371</td>\n",
              "    </tr>\n",
              "    <tr>\n",
              "      <th>1</th>\n",
              "      <td>80-17-000033</td>\n",
              "      <td>2017-01-01 05:20:56</td>\n",
              "      <td>2016-12-31 18:30:00</td>\n",
              "      <td>TBUT OR DISP CONTENTS FROM VEH &lt; $500</td>\n",
              "      <td>VEHICLE BREAK-IN/THEFT</td>\n",
              "      <td>23F</td>\n",
              "      <td>PART I</td>\n",
              "      <td>COMPLETED</td>\n",
              "      <td>3RD DIVISION</td>\n",
              "      <td>331</td>\n",
              "      <td>PARKING LOT / GARAGE</td>\n",
              "      <td>4500 BLOCK GREENWOOD RD                       ...</td>\n",
              "      <td>LOUISVILLE</td>\n",
              "      <td>40258</td>\n",
              "      <td>1062381</td>\n",
              "    </tr>\n",
              "    <tr>\n",
              "      <th>2</th>\n",
              "      <td>80-17-000025</td>\n",
              "      <td>2017-01-01 00:57:00</td>\n",
              "      <td>2017-01-01 00:30:00</td>\n",
              "      <td>ASSAULT - 4TH DEGREE (MINOR INJURY)</td>\n",
              "      <td>ASSAULT</td>\n",
              "      <td>13B</td>\n",
              "      <td>PART II</td>\n",
              "      <td>COMPLETED</td>\n",
              "      <td>7TH DIVISION</td>\n",
              "      <td>736</td>\n",
              "      <td>HOTEL / MOTEL / ETC.</td>\n",
              "      <td>6500 BLOCK SIGNATURE DR                       ...</td>\n",
              "      <td>LOUISVILLE</td>\n",
              "      <td>40213</td>\n",
              "      <td>1062384</td>\n",
              "    </tr>\n",
              "    <tr>\n",
              "      <th>3</th>\n",
              "      <td>80-17-000005</td>\n",
              "      <td>2017-01-01 00:20:00</td>\n",
              "      <td>2017-01-01 00:01:00</td>\n",
              "      <td>CRIMINAL MISCHIEF-3RD DEGREE</td>\n",
              "      <td>VANDALISM</td>\n",
              "      <td>290</td>\n",
              "      <td>PART II</td>\n",
              "      <td>COMPLETED</td>\n",
              "      <td>1ST DIVISION</td>\n",
              "      <td>123</td>\n",
              "      <td>PARKING LOT / GARAGE</td>\n",
              "      <td>500 BLOCK S 5TH ST                            ...</td>\n",
              "      <td>LOUISVILLE</td>\n",
              "      <td>40202</td>\n",
              "      <td>1062385</td>\n",
              "    </tr>\n",
              "    <tr>\n",
              "      <th>4</th>\n",
              "      <td>80-17-000037</td>\n",
              "      <td>2017-01-01 00:35:00</td>\n",
              "      <td>2017-01-01 00:15:00</td>\n",
              "      <td>CRIMINAL MISCHIEF-3RD DEGREE</td>\n",
              "      <td>VANDALISM</td>\n",
              "      <td>290</td>\n",
              "      <td>PART II</td>\n",
              "      <td>COMPLETED</td>\n",
              "      <td>7TH DIVISION</td>\n",
              "      <td>735</td>\n",
              "      <td>RESIDENCE / HOME</td>\n",
              "      <td>6100 BLOCK OVERHILL DR                        ...</td>\n",
              "      <td>LOUISVILLE</td>\n",
              "      <td>40229</td>\n",
              "      <td>1062386</td>\n",
              "    </tr>\n",
              "  </tbody>\n",
              "</table>\n",
              "</div>"
            ],
            "text/plain": [
              "  INCIDENT_NUMBER        DATE_REPORTED  ... ZIP_CODE       ID\n",
              "0    80-16-111411  2017-01-01 08:24:55  ...    40210  1062371\n",
              "1    80-17-000033  2017-01-01 05:20:56  ...    40258  1062381\n",
              "2    80-17-000025  2017-01-01 00:57:00  ...    40213  1062384\n",
              "3    80-17-000005  2017-01-01 00:20:00  ...    40202  1062385\n",
              "4    80-17-000037  2017-01-01 00:35:00  ...    40229  1062386\n",
              "\n",
              "[5 rows x 15 columns]"
            ]
          },
          "metadata": {},
          "execution_count": 5
        }
      ]
    },
    {
      "cell_type": "code",
      "metadata": {
        "colab": {
          "base_uri": "https://localhost:8080/",
          "height": 479
        },
        "id": "DFjBMJdapKti",
        "outputId": "14c4a42f-dd1f-4a78-dfce-17f309049348"
      },
      "source": [
        "data2016 = pd.read_csv('/content/drive/MyDrive/Crime_Data_2016_39.csv')\n",
        "data2016.head()"
      ],
      "execution_count": 6,
      "outputs": [
        {
          "output_type": "execute_result",
          "data": {
            "text/html": [
              "<div>\n",
              "<style scoped>\n",
              "    .dataframe tbody tr th:only-of-type {\n",
              "        vertical-align: middle;\n",
              "    }\n",
              "\n",
              "    .dataframe tbody tr th {\n",
              "        vertical-align: top;\n",
              "    }\n",
              "\n",
              "    .dataframe thead th {\n",
              "        text-align: right;\n",
              "    }\n",
              "</style>\n",
              "<table border=\"1\" class=\"dataframe\">\n",
              "  <thead>\n",
              "    <tr style=\"text-align: right;\">\n",
              "      <th></th>\n",
              "      <th>INCIDENT_NUMBER</th>\n",
              "      <th>DATE_REPORTED</th>\n",
              "      <th>DATE_OCCURED</th>\n",
              "      <th>UOR_DESC</th>\n",
              "      <th>CRIME_TYPE</th>\n",
              "      <th>NIBRS_CODE</th>\n",
              "      <th>UCR_HIERARCHY</th>\n",
              "      <th>ATT_COMP</th>\n",
              "      <th>LMPD_DIVISION</th>\n",
              "      <th>LMPD_BEAT</th>\n",
              "      <th>PREMISE_TYPE</th>\n",
              "      <th>BLOCK_ADDRESS</th>\n",
              "      <th>CITY</th>\n",
              "      <th>ZIP_CODE</th>\n",
              "      <th>ID</th>\n",
              "    </tr>\n",
              "  </thead>\n",
              "  <tbody>\n",
              "    <tr>\n",
              "      <th>0</th>\n",
              "      <td>80-16-001215</td>\n",
              "      <td>2016-01-02 14:08:00</td>\n",
              "      <td>2015-12-21 08:00:00</td>\n",
              "      <td>TBUT OR DISP FIREARM</td>\n",
              "      <td>THEFT/LARCENY</td>\n",
              "      <td>23H</td>\n",
              "      <td>PART I</td>\n",
              "      <td>COMPLETED</td>\n",
              "      <td>3RD DIVISION</td>\n",
              "      <td>316</td>\n",
              "      <td>RESIDENCE / HOME</td>\n",
              "      <td>5100 BLOCK BLEVINS GAP RD                     ...</td>\n",
              "      <td>LOUISVILLE</td>\n",
              "      <td>40272.0</td>\n",
              "      <td>983226</td>\n",
              "    </tr>\n",
              "    <tr>\n",
              "      <th>1</th>\n",
              "      <td>80-16-001235</td>\n",
              "      <td>2016-01-03 13:10:17</td>\n",
              "      <td>2016-01-03 12:58:17</td>\n",
              "      <td>TBUT OR DISP AUTO &gt; $500 BUT &lt; $10,000</td>\n",
              "      <td>MOTOR VEHICLE THEFT</td>\n",
              "      <td>240</td>\n",
              "      <td>PART I</td>\n",
              "      <td>COMPLETED</td>\n",
              "      <td>2ND DIVISION</td>\n",
              "      <td>225</td>\n",
              "      <td>HIGHWAY / ROAD / ALLEY</td>\n",
              "      <td>BRASHEAR DR / MOORE CT                        ...</td>\n",
              "      <td>LOUISVILLE</td>\n",
              "      <td>40210.0</td>\n",
              "      <td>983227</td>\n",
              "    </tr>\n",
              "    <tr>\n",
              "      <th>2</th>\n",
              "      <td>80-16-001250</td>\n",
              "      <td>2016-01-02 19:06:00</td>\n",
              "      <td>2016-01-02 19:00:00</td>\n",
              "      <td>TBUT OR DISP SHOPLIFTING &lt; $500</td>\n",
              "      <td>THEFT/LARCENY</td>\n",
              "      <td>23C</td>\n",
              "      <td>PART I</td>\n",
              "      <td>COMPLETED</td>\n",
              "      <td>7TH DIVISION</td>\n",
              "      <td>723</td>\n",
              "      <td>GROCERY / SUPERMARKET</td>\n",
              "      <td>7800 BLOCK BEULAH CHURCH RD                   ...</td>\n",
              "      <td>LOUISVILLE</td>\n",
              "      <td>40228.0</td>\n",
              "      <td>983228</td>\n",
              "    </tr>\n",
              "    <tr>\n",
              "      <th>3</th>\n",
              "      <td>80-16-001268</td>\n",
              "      <td>2016-01-02 21:14:00</td>\n",
              "      <td>2016-01-02 21:00:00</td>\n",
              "      <td>TBUT OR DISP SHOPLIFTING &lt; $500</td>\n",
              "      <td>THEFT/LARCENY</td>\n",
              "      <td>23C</td>\n",
              "      <td>PART I</td>\n",
              "      <td>COMPLETED</td>\n",
              "      <td>3RD DIVISION</td>\n",
              "      <td>331</td>\n",
              "      <td>DEPARTMENT / DISCOUNT STORE</td>\n",
              "      <td>7100 BLOCK RAGGARD RD                         ...</td>\n",
              "      <td>LOUISVILLE</td>\n",
              "      <td>40216.0</td>\n",
              "      <td>983229</td>\n",
              "    </tr>\n",
              "    <tr>\n",
              "      <th>4</th>\n",
              "      <td>80-16-001216</td>\n",
              "      <td>2016-01-02 17:16:00</td>\n",
              "      <td>2016-01-02 17:16:00</td>\n",
              "      <td>INJURED PERSON REQUIRING POLICE REPORT</td>\n",
              "      <td>OTHER</td>\n",
              "      <td>999</td>\n",
              "      <td>PART II</td>\n",
              "      <td>COMPLETED</td>\n",
              "      <td>4TH DIVISION</td>\n",
              "      <td>412</td>\n",
              "      <td>PARKING LOT / GARAGE</td>\n",
              "      <td>S FLOYD ST / E JACOB ST                       ...</td>\n",
              "      <td>LOUISVILLE</td>\n",
              "      <td>40203.0</td>\n",
              "      <td>983230</td>\n",
              "    </tr>\n",
              "  </tbody>\n",
              "</table>\n",
              "</div>"
            ],
            "text/plain": [
              "  INCIDENT_NUMBER        DATE_REPORTED  ... ZIP_CODE      ID\n",
              "0    80-16-001215  2016-01-02 14:08:00  ...  40272.0  983226\n",
              "1    80-16-001235  2016-01-03 13:10:17  ...  40210.0  983227\n",
              "2    80-16-001250  2016-01-02 19:06:00  ...  40228.0  983228\n",
              "3    80-16-001268  2016-01-02 21:14:00  ...  40216.0  983229\n",
              "4    80-16-001216  2016-01-02 17:16:00  ...  40203.0  983230\n",
              "\n",
              "[5 rows x 15 columns]"
            ]
          },
          "metadata": {},
          "execution_count": 6
        }
      ]
    },
    {
      "cell_type": "code",
      "metadata": {
        "colab": {
          "base_uri": "https://localhost:8080/",
          "height": 445
        },
        "id": "L06ZMfXtpLBs",
        "outputId": "1fe2378f-0c79-4e72-990a-2012cee9a4be"
      },
      "source": [
        "data2015 = pd.read_csv('/content/drive/MyDrive/Crime_Data_2015.csv')\n",
        "data2015.head()"
      ],
      "execution_count": 7,
      "outputs": [
        {
          "output_type": "stream",
          "name": "stderr",
          "text": [
            "/usr/local/lib/python3.7/dist-packages/IPython/core/interactiveshell.py:2718: DtypeWarning: Columns (13) have mixed types.Specify dtype option on import or set low_memory=False.\n",
            "  interactivity=interactivity, compiler=compiler, result=result)\n"
          ]
        },
        {
          "output_type": "execute_result",
          "data": {
            "text/html": [
              "<div>\n",
              "<style scoped>\n",
              "    .dataframe tbody tr th:only-of-type {\n",
              "        vertical-align: middle;\n",
              "    }\n",
              "\n",
              "    .dataframe tbody tr th {\n",
              "        vertical-align: top;\n",
              "    }\n",
              "\n",
              "    .dataframe thead th {\n",
              "        text-align: right;\n",
              "    }\n",
              "</style>\n",
              "<table border=\"1\" class=\"dataframe\">\n",
              "  <thead>\n",
              "    <tr style=\"text-align: right;\">\n",
              "      <th></th>\n",
              "      <th>INCIDENT_NUMBER</th>\n",
              "      <th>DATE_REPORTED</th>\n",
              "      <th>DATE_OCCURED</th>\n",
              "      <th>UOR_DESC</th>\n",
              "      <th>CRIME_TYPE</th>\n",
              "      <th>NIBRS_CODE</th>\n",
              "      <th>UCR_HIERARCHY</th>\n",
              "      <th>ATT_COMP</th>\n",
              "      <th>LMPD_DIVISION</th>\n",
              "      <th>LMPD_BEAT</th>\n",
              "      <th>PREMISE_TYPE</th>\n",
              "      <th>BLOCK_ADDRESS</th>\n",
              "      <th>CITY</th>\n",
              "      <th>ZIP_CODE</th>\n",
              "      <th>ID</th>\n",
              "    </tr>\n",
              "  </thead>\n",
              "  <tbody>\n",
              "    <tr>\n",
              "      <th>0</th>\n",
              "      <td>80-15-095254</td>\n",
              "      <td>2015-11-23 08:30:00</td>\n",
              "      <td>2015-11-22 23:00:00</td>\n",
              "      <td>RECEIVING STOLEN PROPERTY (FIREARM)</td>\n",
              "      <td>THEFT/LARCENY</td>\n",
              "      <td>280</td>\n",
              "      <td>PART II</td>\n",
              "      <td>COMPLETED</td>\n",
              "      <td>7TH DIVISION</td>\n",
              "      <td>712</td>\n",
              "      <td>OTHER RESIDENCE (APARTMENT/CONDO)</td>\n",
              "      <td>10500 BLOCK GLENMARY FARM DR                  ...</td>\n",
              "      <td>LOUISVILLE</td>\n",
              "      <td>40291</td>\n",
              "      <td>26544</td>\n",
              "    </tr>\n",
              "    <tr>\n",
              "      <th>1</th>\n",
              "      <td>80-15-075641</td>\n",
              "      <td>2015-09-21 16:00:00</td>\n",
              "      <td>2015-09-21 16:00:00</td>\n",
              "      <td>CRIMINAL MISCHIEF - 1ST DEGREE</td>\n",
              "      <td>VANDALISM</td>\n",
              "      <td>290</td>\n",
              "      <td>PART II</td>\n",
              "      <td>COMPLETED</td>\n",
              "      <td>3RD DIVISION</td>\n",
              "      <td>331</td>\n",
              "      <td>HIGHWAY / ROAD / ALLEY</td>\n",
              "      <td>3600 BLOCK BAYMEADOW DR                       ...</td>\n",
              "      <td>LOUISVILLE</td>\n",
              "      <td>40258</td>\n",
              "      <td>64673</td>\n",
              "    </tr>\n",
              "    <tr>\n",
              "      <th>2</th>\n",
              "      <td>80-15-048869</td>\n",
              "      <td>2015-06-25 18:19:00</td>\n",
              "      <td>2015-06-25 18:19:00</td>\n",
              "      <td>DRUG PARAPHERNALIA - BUY/POSSESS</td>\n",
              "      <td>DRUGS/ALCOHOL VIOLATIONS</td>\n",
              "      <td>35B</td>\n",
              "      <td>PART II</td>\n",
              "      <td>COMPLETED</td>\n",
              "      <td>3RD DIVISION</td>\n",
              "      <td>331</td>\n",
              "      <td>HIGHWAY / ROAD / ALLEY</td>\n",
              "      <td>BLANTON LN / ST ANDREWS CHURCH RD             ...</td>\n",
              "      <td>LOUISVILLE</td>\n",
              "      <td>40214</td>\n",
              "      <td>64739</td>\n",
              "    </tr>\n",
              "    <tr>\n",
              "      <th>3</th>\n",
              "      <td>80-15-073460</td>\n",
              "      <td>2015-09-14 15:27:00</td>\n",
              "      <td>2015-08-26 12:00:00</td>\n",
              "      <td>SEXUAL ABUSE - 1ST DEGREE</td>\n",
              "      <td>SEX CRIMES</td>\n",
              "      <td>11D</td>\n",
              "      <td>PART II</td>\n",
              "      <td>COMPLETED</td>\n",
              "      <td>6TH DIVISION</td>\n",
              "      <td>613</td>\n",
              "      <td>RESIDENCE / HOME</td>\n",
              "      <td>5200 BLOCK BROADMOOR BLVD                     ...</td>\n",
              "      <td>LOUISVILLE</td>\n",
              "      <td>40218</td>\n",
              "      <td>65201</td>\n",
              "    </tr>\n",
              "    <tr>\n",
              "      <th>4</th>\n",
              "      <td>80-15-080965</td>\n",
              "      <td>2015-10-08 10:03:00</td>\n",
              "      <td>2015-10-08 10:03:00</td>\n",
              "      <td>POSS OF MARIJUANA</td>\n",
              "      <td>DRUGS/ALCOHOL VIOLATIONS</td>\n",
              "      <td>35A</td>\n",
              "      <td>PART II</td>\n",
              "      <td>COMPLETED</td>\n",
              "      <td>6TH DIVISION</td>\n",
              "      <td>611</td>\n",
              "      <td>HIGHWAY / ROAD / ALLEY</td>\n",
              "      <td>I 264 RAMP / I 264 RAMP                       ...</td>\n",
              "      <td>LOUISVILLE</td>\n",
              "      <td>40213</td>\n",
              "      <td>65239</td>\n",
              "    </tr>\n",
              "  </tbody>\n",
              "</table>\n",
              "</div>"
            ],
            "text/plain": [
              "  INCIDENT_NUMBER        DATE_REPORTED  ... ZIP_CODE     ID\n",
              "0    80-15-095254  2015-11-23 08:30:00  ...    40291  26544\n",
              "1    80-15-075641  2015-09-21 16:00:00  ...    40258  64673\n",
              "2    80-15-048869  2015-06-25 18:19:00  ...    40214  64739\n",
              "3    80-15-073460  2015-09-14 15:27:00  ...    40218  65201\n",
              "4    80-15-080965  2015-10-08 10:03:00  ...    40213  65239\n",
              "\n",
              "[5 rows x 15 columns]"
            ]
          },
          "metadata": {},
          "execution_count": 7
        }
      ]
    },
    {
      "cell_type": "code",
      "metadata": {
        "colab": {
          "base_uri": "https://localhost:8080/",
          "height": 530
        },
        "id": "LbSvtrA0K0aX",
        "outputId": "0f77c991-293d-46c0-e708-3e9cdff3f9c8"
      },
      "source": [
        "data2014 = pd.read_csv('/content/drive/MyDrive/Crime_Data_2014.csv')\n",
        "data2014.head()"
      ],
      "execution_count": 8,
      "outputs": [
        {
          "output_type": "stream",
          "name": "stderr",
          "text": [
            "/usr/local/lib/python3.7/dist-packages/IPython/core/interactiveshell.py:2718: DtypeWarning: Columns (13) have mixed types.Specify dtype option on import or set low_memory=False.\n",
            "  interactivity=interactivity, compiler=compiler, result=result)\n"
          ]
        },
        {
          "output_type": "execute_result",
          "data": {
            "text/html": [
              "<div>\n",
              "<style scoped>\n",
              "    .dataframe tbody tr th:only-of-type {\n",
              "        vertical-align: middle;\n",
              "    }\n",
              "\n",
              "    .dataframe tbody tr th {\n",
              "        vertical-align: top;\n",
              "    }\n",
              "\n",
              "    .dataframe thead th {\n",
              "        text-align: right;\n",
              "    }\n",
              "</style>\n",
              "<table border=\"1\" class=\"dataframe\">\n",
              "  <thead>\n",
              "    <tr style=\"text-align: right;\">\n",
              "      <th></th>\n",
              "      <th>INCIDENT_NUMBER</th>\n",
              "      <th>DATE_REPORTED</th>\n",
              "      <th>DATE_OCCURED</th>\n",
              "      <th>UOR_DESC</th>\n",
              "      <th>CRIME_TYPE</th>\n",
              "      <th>NIBRS_CODE</th>\n",
              "      <th>UCR_HIERARCHY</th>\n",
              "      <th>ATT_COMP</th>\n",
              "      <th>LMPD_DIVISION</th>\n",
              "      <th>LMPD_BEAT</th>\n",
              "      <th>PREMISE_TYPE</th>\n",
              "      <th>BLOCK_ADDRESS</th>\n",
              "      <th>CITY</th>\n",
              "      <th>ZIP_CODE</th>\n",
              "      <th>ID</th>\n",
              "    </tr>\n",
              "  </thead>\n",
              "  <tbody>\n",
              "    <tr>\n",
              "      <th>0</th>\n",
              "      <td>80-14-048074</td>\n",
              "      <td>2014-06-30 10:46:00</td>\n",
              "      <td>2014-06-29 21:00:00</td>\n",
              "      <td>RECEIVING STOLEN PROPERTY (FIREARM)</td>\n",
              "      <td>THEFT/LARCENY</td>\n",
              "      <td>280</td>\n",
              "      <td>PART II</td>\n",
              "      <td>COMPLETED</td>\n",
              "      <td>4TH DIVISION</td>\n",
              "      <td>424</td>\n",
              "      <td>HIGHWAY / ROAD / ALLEY</td>\n",
              "      <td>2900 BLOCK S 3RD ST                           ...</td>\n",
              "      <td>LOUISVILLE</td>\n",
              "      <td>40208</td>\n",
              "      <td>52593</td>\n",
              "    </tr>\n",
              "    <tr>\n",
              "      <th>1</th>\n",
              "      <td>80-14-004033</td>\n",
              "      <td>2014-01-16 18:20:00</td>\n",
              "      <td>2014-01-16 14:45:00</td>\n",
              "      <td>RECEIVING STOLEN PROPERTY (FIREARM)</td>\n",
              "      <td>THEFT/LARCENY</td>\n",
              "      <td>280</td>\n",
              "      <td>PART II</td>\n",
              "      <td>COMPLETED</td>\n",
              "      <td>6TH DIVISION</td>\n",
              "      <td>612</td>\n",
              "      <td>OTHER / UNKNOWN</td>\n",
              "      <td>5300 BLOCK PRESTON HWY                        ...</td>\n",
              "      <td>LOUISVILLE</td>\n",
              "      <td>40213</td>\n",
              "      <td>174296</td>\n",
              "    </tr>\n",
              "    <tr>\n",
              "      <th>2</th>\n",
              "      <td>80-14-057665</td>\n",
              "      <td>2014-08-03 07:48:17</td>\n",
              "      <td>2014-07-28 15:54:00</td>\n",
              "      <td>RECEIVING STOLEN PROPERTY U/$500 MISD</td>\n",
              "      <td>THEFT/LARCENY</td>\n",
              "      <td>280</td>\n",
              "      <td>PART II</td>\n",
              "      <td>COMPLETED</td>\n",
              "      <td>3RD DIVISION</td>\n",
              "      <td>331</td>\n",
              "      <td>OTHER / UNKNOWN</td>\n",
              "      <td>6400 BLOCK TRIPLETT WOODS DR                  ...</td>\n",
              "      <td>LOUISVILLE</td>\n",
              "      <td>40216</td>\n",
              "      <td>321689</td>\n",
              "    </tr>\n",
              "    <tr>\n",
              "      <th>3</th>\n",
              "      <td>80-14-092782</td>\n",
              "      <td>2014-12-02 22:50:27</td>\n",
              "      <td>2014-11-28 20:00:00</td>\n",
              "      <td>RECEIVING STOLEN PROPERTY U/$10,000</td>\n",
              "      <td>THEFT/LARCENY</td>\n",
              "      <td>280</td>\n",
              "      <td>PART II</td>\n",
              "      <td>COMPLETED</td>\n",
              "      <td>1ST DIVISION</td>\n",
              "      <td>123</td>\n",
              "      <td>PARKING LOT / GARAGE</td>\n",
              "      <td>400 BLOCK W MAIN ST                           ...</td>\n",
              "      <td>LOUISVILLE</td>\n",
              "      <td>40202</td>\n",
              "      <td>400889</td>\n",
              "    </tr>\n",
              "    <tr>\n",
              "      <th>4</th>\n",
              "      <td>80-14-092782</td>\n",
              "      <td>2014-12-02 22:50:27</td>\n",
              "      <td>2014-11-28 20:00:00</td>\n",
              "      <td>CRIMINAL POSSESSION FORGED INSTRUMENT-1ST DEGR...</td>\n",
              "      <td>FRAUD</td>\n",
              "      <td>250</td>\n",
              "      <td>PART II</td>\n",
              "      <td>COMPLETED</td>\n",
              "      <td>1ST DIVISION</td>\n",
              "      <td>123</td>\n",
              "      <td>PARKING LOT / GARAGE</td>\n",
              "      <td>400 BLOCK W MAIN ST                           ...</td>\n",
              "      <td>LOUISVILLE</td>\n",
              "      <td>40202</td>\n",
              "      <td>401339</td>\n",
              "    </tr>\n",
              "  </tbody>\n",
              "</table>\n",
              "</div>"
            ],
            "text/plain": [
              "  INCIDENT_NUMBER        DATE_REPORTED  ... ZIP_CODE      ID\n",
              "0    80-14-048074  2014-06-30 10:46:00  ...    40208   52593\n",
              "1    80-14-004033  2014-01-16 18:20:00  ...    40213  174296\n",
              "2    80-14-057665  2014-08-03 07:48:17  ...    40216  321689\n",
              "3    80-14-092782  2014-12-02 22:50:27  ...    40202  400889\n",
              "4    80-14-092782  2014-12-02 22:50:27  ...    40202  401339\n",
              "\n",
              "[5 rows x 15 columns]"
            ]
          },
          "metadata": {},
          "execution_count": 8
        }
      ]
    },
    {
      "cell_type": "code",
      "metadata": {
        "id": "waS-Z3Rcp6o0"
      },
      "source": [
        "data = pd.concat([data2018,data2017,data2016,data2015,data2014])"
      ],
      "execution_count": 9,
      "outputs": []
    },
    {
      "cell_type": "code",
      "metadata": {
        "colab": {
          "base_uri": "https://localhost:8080/",
          "height": 445
        },
        "id": "GtJPz3WHsBVe",
        "outputId": "344edde6-1246-48b4-cb08-1fee95b03fb0"
      },
      "source": [
        "data.head()"
      ],
      "execution_count": 10,
      "outputs": [
        {
          "output_type": "execute_result",
          "data": {
            "text/html": [
              "<div>\n",
              "<style scoped>\n",
              "    .dataframe tbody tr th:only-of-type {\n",
              "        vertical-align: middle;\n",
              "    }\n",
              "\n",
              "    .dataframe tbody tr th {\n",
              "        vertical-align: top;\n",
              "    }\n",
              "\n",
              "    .dataframe thead th {\n",
              "        text-align: right;\n",
              "    }\n",
              "</style>\n",
              "<table border=\"1\" class=\"dataframe\">\n",
              "  <thead>\n",
              "    <tr style=\"text-align: right;\">\n",
              "      <th></th>\n",
              "      <th>INCIDENT_NUMBER</th>\n",
              "      <th>DATE_REPORTED</th>\n",
              "      <th>DATE_OCCURED</th>\n",
              "      <th>UOR_DESC</th>\n",
              "      <th>CRIME_TYPE</th>\n",
              "      <th>NIBRS_CODE</th>\n",
              "      <th>UCR_HIERARCHY</th>\n",
              "      <th>ATT_COMP</th>\n",
              "      <th>LMPD_DIVISION</th>\n",
              "      <th>LMPD_BEAT</th>\n",
              "      <th>PREMISE_TYPE</th>\n",
              "      <th>BLOCK_ADDRESS</th>\n",
              "      <th>CITY</th>\n",
              "      <th>ZIP_CODE</th>\n",
              "      <th>ID</th>\n",
              "    </tr>\n",
              "  </thead>\n",
              "  <tbody>\n",
              "    <tr>\n",
              "      <th>0</th>\n",
              "      <td>80-18-037885</td>\n",
              "      <td>5/19/2018 22:16</td>\n",
              "      <td>5/19/2018 21:30</td>\n",
              "      <td>BURGLARY - 2ND DEGREE</td>\n",
              "      <td>BURGLARY</td>\n",
              "      <td>220</td>\n",
              "      <td>PART I</td>\n",
              "      <td>COMPLETED</td>\n",
              "      <td>4TH DIVISION</td>\n",
              "      <td>424</td>\n",
              "      <td>RESIDENCE / HOME</td>\n",
              "      <td>3300 BLOCK DEARCY AVE                         ...</td>\n",
              "      <td>LOUISVILLE</td>\n",
              "      <td>40215</td>\n",
              "      <td>455888</td>\n",
              "    </tr>\n",
              "    <tr>\n",
              "      <th>1</th>\n",
              "      <td>80-18-037894</td>\n",
              "      <td>5/19/2018 22:54</td>\n",
              "      <td>5/19/2018 22:40</td>\n",
              "      <td>CRIMINAL MISCHIEF-3RD DEGREE</td>\n",
              "      <td>VANDALISM</td>\n",
              "      <td>290</td>\n",
              "      <td>PART II</td>\n",
              "      <td>COMPLETED</td>\n",
              "      <td>2ND DIVISION</td>\n",
              "      <td>212</td>\n",
              "      <td>RESIDENCE / HOME</td>\n",
              "      <td>600 BLOCK LINDELL AVE                         ...</td>\n",
              "      <td>LOUISVILLE</td>\n",
              "      <td>40211</td>\n",
              "      <td>455889</td>\n",
              "    </tr>\n",
              "    <tr>\n",
              "      <th>2</th>\n",
              "      <td>80-18-032150</td>\n",
              "      <td>4/30/2018 20:37</td>\n",
              "      <td>4/30/2018 20:37</td>\n",
              "      <td>TBUT OR DISP ALL OTHERS &lt;  $500</td>\n",
              "      <td>THEFT/LARCENY</td>\n",
              "      <td>23H</td>\n",
              "      <td>PART I</td>\n",
              "      <td>COMPLETED</td>\n",
              "      <td>4TH DIVISION</td>\n",
              "      <td>412</td>\n",
              "      <td>RESIDENCE / HOME</td>\n",
              "      <td>700 BLOCK S CLAY ST                           ...</td>\n",
              "      <td>LOUISVILLE</td>\n",
              "      <td>40203</td>\n",
              "      <td>455890</td>\n",
              "    </tr>\n",
              "    <tr>\n",
              "      <th>3</th>\n",
              "      <td>80-18-037844</td>\n",
              "      <td>5/19/2018 19:19</td>\n",
              "      <td>5/18/2018 19:19</td>\n",
              "      <td>BURGLARY - 2ND DEGREE</td>\n",
              "      <td>BURGLARY</td>\n",
              "      <td>220</td>\n",
              "      <td>PART I</td>\n",
              "      <td>COMPLETED</td>\n",
              "      <td>6TH DIVISION</td>\n",
              "      <td>624</td>\n",
              "      <td>RESIDENCE / HOME</td>\n",
              "      <td>200 BLOCK ELDORADO AVE                        ...</td>\n",
              "      <td>LOUISVILLE</td>\n",
              "      <td>40218</td>\n",
              "      <td>455891</td>\n",
              "    </tr>\n",
              "    <tr>\n",
              "      <th>4</th>\n",
              "      <td>80-18-037844</td>\n",
              "      <td>5/19/2018 19:19</td>\n",
              "      <td>5/18/2018 19:19</td>\n",
              "      <td>CRIMINAL MISCHIEF-3RD DEGREE</td>\n",
              "      <td>VANDALISM</td>\n",
              "      <td>290</td>\n",
              "      <td>PART II</td>\n",
              "      <td>COMPLETED</td>\n",
              "      <td>6TH DIVISION</td>\n",
              "      <td>624</td>\n",
              "      <td>RESIDENCE / HOME</td>\n",
              "      <td>200 BLOCK ELDORADO AVE                        ...</td>\n",
              "      <td>LOUISVILLE</td>\n",
              "      <td>40218</td>\n",
              "      <td>455892</td>\n",
              "    </tr>\n",
              "  </tbody>\n",
              "</table>\n",
              "</div>"
            ],
            "text/plain": [
              "  INCIDENT_NUMBER    DATE_REPORTED  ... ZIP_CODE      ID\n",
              "0    80-18-037885  5/19/2018 22:16  ...    40215  455888\n",
              "1    80-18-037894  5/19/2018 22:54  ...    40211  455889\n",
              "2    80-18-032150  4/30/2018 20:37  ...    40203  455890\n",
              "3    80-18-037844  5/19/2018 19:19  ...    40218  455891\n",
              "4    80-18-037844  5/19/2018 19:19  ...    40218  455892\n",
              "\n",
              "[5 rows x 15 columns]"
            ]
          },
          "metadata": {},
          "execution_count": 10
        }
      ]
    },
    {
      "cell_type": "code",
      "metadata": {
        "colab": {
          "base_uri": "https://localhost:8080/"
        },
        "id": "VlVc1y3PtM-W",
        "outputId": "513c3dbb-6ab4-418a-f23e-c6fdf7b2edac"
      },
      "source": [
        "data.info()"
      ],
      "execution_count": 11,
      "outputs": [
        {
          "output_type": "stream",
          "name": "stdout",
          "text": [
            "<class 'pandas.core.frame.DataFrame'>\n",
            "Int64Index: 403706 entries, 0 to 77465\n",
            "Data columns (total 15 columns):\n",
            " #   Column           Non-Null Count   Dtype \n",
            "---  ------           --------------   ----- \n",
            " 0   INCIDENT_NUMBER  403706 non-null  object\n",
            " 1   DATE_REPORTED    403706 non-null  object\n",
            " 2   DATE_OCCURED     403686 non-null  object\n",
            " 3   UOR_DESC         403706 non-null  object\n",
            " 4   CRIME_TYPE       403706 non-null  object\n",
            " 5   NIBRS_CODE       403706 non-null  object\n",
            " 6   UCR_HIERARCHY    397897 non-null  object\n",
            " 7   ATT_COMP         402839 non-null  object\n",
            " 8   LMPD_DIVISION    403706 non-null  object\n",
            " 9   LMPD_BEAT        402746 non-null  object\n",
            " 10  PREMISE_TYPE     403350 non-null  object\n",
            " 11  BLOCK_ADDRESS    403706 non-null  object\n",
            " 12  CITY             403133 non-null  object\n",
            " 13  ZIP_CODE         401197 non-null  object\n",
            " 14  ID               403706 non-null  int64 \n",
            "dtypes: int64(1), object(14)\n",
            "memory usage: 49.3+ MB\n"
          ]
        }
      ]
    },
    {
      "cell_type": "code",
      "metadata": {
        "colab": {
          "base_uri": "https://localhost:8080/"
        },
        "id": "qbnOAfKQtQdd",
        "outputId": "738a7a69-0c4d-482d-a552-2146fe2ce0d1"
      },
      "source": [
        "data.isna().sum()"
      ],
      "execution_count": 12,
      "outputs": [
        {
          "output_type": "execute_result",
          "data": {
            "text/plain": [
              "INCIDENT_NUMBER       0\n",
              "DATE_REPORTED         0\n",
              "DATE_OCCURED         20\n",
              "UOR_DESC              0\n",
              "CRIME_TYPE            0\n",
              "NIBRS_CODE            0\n",
              "UCR_HIERARCHY      5809\n",
              "ATT_COMP            867\n",
              "LMPD_DIVISION         0\n",
              "LMPD_BEAT           960\n",
              "PREMISE_TYPE        356\n",
              "BLOCK_ADDRESS         0\n",
              "CITY                573\n",
              "ZIP_CODE           2509\n",
              "ID                    0\n",
              "dtype: int64"
            ]
          },
          "metadata": {},
          "execution_count": 12
        }
      ]
    },
    {
      "cell_type": "code",
      "metadata": {
        "colab": {
          "base_uri": "https://localhost:8080/",
          "height": 507
        },
        "id": "uMUf3mLbygz1",
        "outputId": "2e9d5fd8-37d2-41f3-9e18-c183c3171d29"
      },
      "source": [
        "popsize = np.array(list(data['CRIME_TYPE'].value_counts().values))/100\n",
        "plt.scatter(list(data['CRIME_TYPE'].value_counts().keys()), list(data['CRIME_TYPE'].value_counts().values), s=popsize)\n",
        "plt.xlabel('Year')\n",
        "plt.ylabel('Population')\n",
        "plt.title('Iran\\'s Population')\n",
        "plt.yticks([10000,20000, 30000, 40000, 50000, 60000, 70000, 80000,90000,100000],['10k','20k','30k','40k','50k','60k','70k','80k','90k','100k'])\n",
        "plt.xticks(list(data['CRIME_TYPE'].value_counts().keys()),rotation=45)\n",
        "fig = plt.gcf()\n",
        "fig.set_size_inches(20, 6, forward=True)\n",
        "plt.show()"
      ],
      "execution_count": 13,
      "outputs": [
        {
          "output_type": "display_data",
          "data": {
            "image/png": "[encoded data removed]",
            "text/plain": [
              "<Figure size 1440x432 with 1 Axes>"
            ]
          },
          "metadata": {
            "needs_background": "light"
          }
        }
      ]
    },
    {
      "cell_type": "code",
      "metadata": {
        "colab": {
          "base_uri": "https://localhost:8080/"
        },
        "id": "zlkJsQZB-xA7",
        "outputId": "2a795d42-4d9e-46d3-fa9f-b00e78a3f4e2"
      },
      "source": [
        "data['CRIME_TYPE'].value_counts()"
      ],
      "execution_count": 14,
      "outputs": [
        {
          "output_type": "execute_result",
          "data": {
            "text/plain": [
              "THEFT/LARCENY               78587\n",
              "DRUGS/ALCOHOL VIOLATIONS    71743\n",
              "ASSAULT                     67203\n",
              "OTHER                       40547\n",
              "BURGLARY                    29560\n",
              "VANDALISM                   28608\n",
              "VEHICLE BREAK-IN/THEFT      28212\n",
              "FRAUD                       21449\n",
              "MOTOR VEHICLE THEFT         18076\n",
              "ROBBERY                      7204\n",
              "WEAPONS                      6850\n",
              "SEX CRIMES                   2776\n",
              "DISTURBING THE PEACE         2345\n",
              "HOMICIDE                      475\n",
              "ARSON                          36\n",
              "DUI                            35\n",
              "Name: CRIME_TYPE, dtype: int64"
            ]
          },
          "metadata": {},
          "execution_count": 14
        }
      ]
    },
    {
      "cell_type": "code",
      "metadata": {
        "colab": {
          "base_uri": "https://localhost:8080/"
        },
        "id": "I0bSXdQ_x4pD",
        "outputId": "5ff8df54-fca8-4c49-b916-874147397f6a"
      },
      "source": [
        "data['ZIP_CODE'].value_counts()"
      ],
      "execution_count": 15,
      "outputs": [
        {
          "output_type": "execute_result",
          "data": {
            "text/plain": [
              "40203.0     18508\n",
              "40214.0     18379\n",
              "40211.0     18342\n",
              "40219.0     16990\n",
              "40215.0     13643\n",
              "            ...  \n",
              "38125           1\n",
              "95794           1\n",
              "944091.0        1\n",
              "11239           1\n",
              "1.0             1\n",
              "Name: ZIP_CODE, Length: 137, dtype: int64"
            ]
          },
          "metadata": {},
          "execution_count": 15
        }
      ]
    },
    {
      "cell_type": "code",
      "metadata": {
        "colab": {
          "base_uri": "https://localhost:8080/"
        },
        "id": "9-X_62Zf3IkJ",
        "outputId": "b2eb1c0c-8b4f-4f11-ccf8-0a876627d56f"
      },
      "source": [
        "data['CRIME_TYPE'].unique()"
      ],
      "execution_count": 16,
      "outputs": [
        {
          "output_type": "execute_result",
          "data": {
            "text/plain": [
              "array(['BURGLARY', 'VANDALISM', 'THEFT/LARCENY', 'FRAUD',\n",
              "       'VEHICLE BREAK-IN/THEFT', 'ASSAULT', 'DRUGS/ALCOHOL VIOLATIONS',\n",
              "       'OTHER', 'ROBBERY', 'WEAPONS', 'SEX CRIMES', 'MOTOR VEHICLE THEFT',\n",
              "       'HOMICIDE', 'DISTURBING THE PEACE', 'ARSON', 'DUI'], dtype=object)"
            ]
          },
          "metadata": {},
          "execution_count": 16
        }
      ]
    },
    {
      "cell_type": "code",
      "metadata": {
        "colab": {
          "base_uri": "https://localhost:8080/"
        },
        "id": "H-eUvLOU9m46",
        "outputId": "07b5a0d2-9e9b-45c2-c0fd-16cac3bdc140"
      },
      "source": [
        "random.seed(42)\n",
        "random.sample(list(data['CRIME_TYPE'].unique()),5)"
      ],
      "execution_count": 17,
      "outputs": [
        {
          "output_type": "execute_result",
          "data": {
            "text/plain": [
              "['FRAUD', 'BURGLARY', 'MOTOR VEHICLE THEFT', 'VEHICLE BREAK-IN/THEFT', 'DUI']"
            ]
          },
          "metadata": {},
          "execution_count": 17
        }
      ]
    },
    {
      "cell_type": "code",
      "metadata": {
        "colab": {
          "base_uri": "https://localhost:8080/"
        },
        "id": "MqmB290k-CrU",
        "outputId": "ebc15e57-15ca-4968-9123-e9a78210ad99"
      },
      "source": [
        "arr = []\n",
        "arr.append(len(data2014[data2014['CRIME_TYPE'] == 'FRAUD']))\n",
        "arr.append(len(data2015[data2015['CRIME_TYPE'] == 'FRAUD']))\n",
        "arr.append(len(data2016[data2016['CRIME_TYPE'] == 'FRAUD']))\n",
        "arr.append(len(data2017[data2017['CRIME_TYPE'] == 'FRAUD']))\n",
        "arr.append(len(data2018[data2018['CRIME_TYPE'] == 'FRAUD']))\n",
        "arr"
      ],
      "execution_count": 18,
      "outputs": [
        {
          "output_type": "execute_result",
          "data": {
            "text/plain": [
              "[3698, 4433, 4349, 4590, 4379]"
            ]
          },
          "metadata": {},
          "execution_count": 18
        }
      ]
    },
    {
      "cell_type": "code",
      "metadata": {
        "colab": {
          "base_uri": "https://localhost:8080/",
          "height": 480
        },
        "id": "AuoGRm1n_fGf",
        "outputId": "5d4c20f4-98d1-42de-f348-fc201041fcfe"
      },
      "source": [
        "plt.figure(figsize=(8, 5), dpi=100)\n",
        "plt.plot([2014, 2015, 2016, 2017, 2018], arr, color='red')\n",
        "plt.xlabel('Year')\n",
        "plt.ylabel('Number')\n",
        "plt.title('Number of FRAUD')\n",
        "plt.yticks([1000, 2000, 3000, 4000, 5000],['10k','20k','30k','40k','50k'])\n",
        "plt.xticks([2014, 2015, 2016, 2017, 2018] )\n",
        "plt.show()"
      ],
      "execution_count": 19,
      "outputs": [
        {
          "output_type": "display_data",
          "data": {
            "image/png": "[encoded data removed]",
            "text/plain": [
              "<Figure size 800x500 with 1 Axes>"
            ]
          },
          "metadata": {
            "needs_background": "light"
          }
        }
      ]
    },
    {
      "cell_type": "code",
      "metadata": {
        "colab": {
          "base_uri": "https://localhost:8080/"
        },
        "id": "-EUPWNGzBAti",
        "outputId": "dbfa29d0-ab51-482f-d878-b05c61b1e4f1"
      },
      "source": [
        "arr = []\n",
        "arr.append(len(data2014[data2014['CRIME_TYPE'] == 'BURGLARY']))\n",
        "arr.append(len(data2015[data2015['CRIME_TYPE'] == 'BURGLARY']))\n",
        "arr.append(len(data2016[data2016['CRIME_TYPE'] == 'BURGLARY']))\n",
        "arr.append(len(data2017[data2017['CRIME_TYPE'] == 'BURGLARY']))\n",
        "arr.append(len(data2018[data2018['CRIME_TYPE'] == 'BURGLARY']))\n",
        "arr"
      ],
      "execution_count": 20,
      "outputs": [
        {
          "output_type": "execute_result",
          "data": {
            "text/plain": [
              "[6570, 6418, 6085, 5720, 4767]"
            ]
          },
          "metadata": {},
          "execution_count": 20
        }
      ]
    },
    {
      "cell_type": "code",
      "metadata": {
        "colab": {
          "base_uri": "https://localhost:8080/",
          "height": 480
        },
        "id": "2S3BkwCKBGu8",
        "outputId": "44bc7b38-345a-4fdf-e7c1-8ceed8a77676"
      },
      "source": [
        "plt.figure(figsize=(8, 5), dpi=100)\n",
        "plt.plot([2014, 2015, 2016, 2017, 2018], arr, color='red')\n",
        "plt.xlabel('Year')\n",
        "plt.ylabel('Number')\n",
        "plt.title('Number of BURGLARY')\n",
        "plt.yticks([2000,3000, 4000,5000, 6000, 7000],['2k','3k','4k','5k','6k','7k'])\n",
        "plt.xticks([2014, 2015, 2016, 2017, 2018])\n",
        "plt.show()"
      ],
      "execution_count": 21,
      "outputs": [
        {
          "output_type": "display_data",
          "data": {
            "image/png": "[encoded data removed]",
            "text/plain": [
              "<Figure size 800x500 with 1 Axes>"
            ]
          },
          "metadata": {
            "needs_background": "light"
          }
        }
      ]
    },
    {
      "cell_type": "code",
      "metadata": {
        "colab": {
          "base_uri": "https://localhost:8080/"
        },
        "id": "NUhRqvM7BMzB",
        "outputId": "ad1edd53-45bc-4edf-cff8-e6cd661a9d10"
      },
      "source": [
        "arr = []\n",
        "arr.append(len(data2014[data2014['CRIME_TYPE'] == 'MOTOR VEHICLE THEFT']))\n",
        "arr.append(len(data2015[data2015['CRIME_TYPE'] == 'MOTOR VEHICLE THEFT']))\n",
        "arr.append(len(data2016[data2016['CRIME_TYPE'] == 'MOTOR VEHICLE THEFT']))\n",
        "arr.append(len(data2017[data2017['CRIME_TYPE'] == 'MOTOR VEHICLE THEFT']))\n",
        "arr.append(len(data2018[data2018['CRIME_TYPE'] == 'MOTOR VEHICLE THEFT']))\n",
        "arr"
      ],
      "execution_count": 22,
      "outputs": [
        {
          "output_type": "execute_result",
          "data": {
            "text/plain": [
              "[2504, 3234, 4412, 3995, 3931]"
            ]
          },
          "metadata": {},
          "execution_count": 22
        }
      ]
    },
    {
      "cell_type": "code",
      "metadata": {
        "colab": {
          "base_uri": "https://localhost:8080/",
          "height": 480
        },
        "id": "KwCoimvHBRqJ",
        "outputId": "0483c8ed-bc26-4d78-9818-0641716608e3"
      },
      "source": [
        "plt.figure(figsize=(8, 5), dpi=100)\n",
        "plt.plot([2014, 2015, 2016, 2017, 2018], arr, color='red')\n",
        "plt.xlabel('Year')\n",
        "plt.ylabel('Number')\n",
        "plt.title('Number of MOTOR VEHICLE THEFT')\n",
        "plt.yticks([1000, 2000, 3000, 4000, 5000],['1k','2k','3k','4k','5k'])\n",
        "plt.xticks([2014, 2015, 2016, 2017, 2018])\n",
        "plt.show()"
      ],
      "execution_count": 23,
      "outputs": [
        {
          "output_type": "display_data",
          "data": {
            "image/png": "[encoded data removed]",
            "text/plain": [
              "<Figure size 800x500 with 1 Axes>"
            ]
          },
          "metadata": {
            "needs_background": "light"
          }
        }
      ]
    },
    {
      "cell_type": "code",
      "metadata": {
        "colab": {
          "base_uri": "https://localhost:8080/"
        },
        "id": "p2tiUJeuCBRB",
        "outputId": "03849194-bd5f-4697-91d2-e432e824aec1"
      },
      "source": [
        "arr = []\n",
        "arr.append(len(data2014[data2014['CRIME_TYPE'] == 'VEHICLE BREAK-IN/THEFT']))\n",
        "arr.append(len(data2015[data2015['CRIME_TYPE'] == 'VEHICLE BREAK-IN/THEFT']))\n",
        "arr.append(len(data2016[data2016['CRIME_TYPE'] == 'VEHICLE BREAK-IN/THEFT']))\n",
        "arr.append(len(data2017[data2017['CRIME_TYPE'] == 'VEHICLE BREAK-IN/THEFT']))\n",
        "arr.append(len(data2018[data2018['CRIME_TYPE'] == 'VEHICLE BREAK-IN/THEFT']))\n",
        "arr"
      ],
      "execution_count": 24,
      "outputs": [
        {
          "output_type": "execute_result",
          "data": {
            "text/plain": [
              "[4925, 4767, 6427, 6117, 5976]"
            ]
          },
          "metadata": {},
          "execution_count": 24
        }
      ]
    },
    {
      "cell_type": "code",
      "metadata": {
        "colab": {
          "base_uri": "https://localhost:8080/",
          "height": 480
        },
        "id": "LMQ_GL_HCGxW",
        "outputId": "91b118ae-a8e1-40c5-9736-baf36b1f7e66"
      },
      "source": [
        "plt.figure(figsize=(8, 5), dpi=100)\n",
        "plt.plot([2014, 2015, 2016, 2017, 2018], arr, color='red')\n",
        "plt.xlabel('Year')\n",
        "plt.ylabel('Number')\n",
        "plt.title('Number of VEHICLE BREAK-IN/THEFT')\n",
        "plt.yticks([2000,3000, 4000,5000, 6000, 7000],['2k','3k','4k','5k','6k','7k'])\n",
        "plt.xticks([2014, 2015, 2016, 2017, 2018])\n",
        "plt.show()"
      ],
      "execution_count": 25,
      "outputs": [
        {
          "output_type": "display_data",
          "data": {
            "image/png": "[encoded data removed]",
            "text/plain": [
              "<Figure size 800x500 with 1 Axes>"
            ]
          },
          "metadata": {
            "needs_background": "light"
          }
        }
      ]
    },
    {
      "cell_type": "code",
      "metadata": {
        "colab": {
          "base_uri": "https://localhost:8080/"
        },
        "id": "3k9_NRglO0Yb",
        "outputId": "a8e1e765-7437-4db4-d489-cba27586ae9b"
      },
      "source": [
        "arr = []\n",
        "arr.append(len(data2014[data2014['CRIME_TYPE'] == 'DUI']))\n",
        "arr.append(len(data2015[data2015['CRIME_TYPE'] == 'DUI']))\n",
        "arr.append(len(data2016[data2016['CRIME_TYPE'] == 'DUI']))\n",
        "arr.append(len(data2017[data2017['CRIME_TYPE'] == 'DUI']))\n",
        "arr.append(len(data2018[data2018['CRIME_TYPE'] == 'DUI']))\n",
        "arr"
      ],
      "execution_count": 40,
      "outputs": [
        {
          "output_type": "execute_result",
          "data": {
            "text/plain": [
              "[9, 3, 5, 5, 13]"
            ]
          },
          "metadata": {},
          "execution_count": 40
        }
      ]
    },
    {
      "cell_type": "code",
      "metadata": {
        "colab": {
          "base_uri": "https://localhost:8080/",
          "height": 480
        },
        "id": "thfjoNhXO2Mw",
        "outputId": "39fd2f68-b857-4f07-a29c-e1e91d73bad5"
      },
      "source": [
        "plt.figure(figsize=(8, 5), dpi=100)\n",
        "plt.plot([2014, 2015, 2016, 2017, 2018], arr, color='red')\n",
        "plt.xlabel('Year')\n",
        "plt.ylabel('Number')\n",
        "plt.title('Number of DUI')\n",
        "plt.yticks([3,5, 9 ,13, 20])\n",
        "plt.xticks([2014, 2015, 2016, 2017, 2018])\n",
        "plt.show()"
      ],
      "execution_count": 41,
      "outputs": [
        {
          "output_type": "display_data",
          "data": {
            "image/png": "[encoded data removed]",
            "text/plain": [
              "<Figure size 800x500 with 1 Axes>"
            ]
          },
          "metadata": {
            "needs_background": "light"
          }
        }
      ]
    },
    {
      "cell_type": "code",
      "metadata": {
        "colab": {
          "base_uri": "https://localhost:8080/",
          "height": 480
        },
        "id": "8ZNiHmdXsqJP",
        "outputId": "cdce32ca-6a29-41c5-a86d-3a4aca04346e"
      },
      "source": [
        "arr = []\n",
        "arr.append(len(data2014[data2014['CRIME_TYPE'] == 'SEX CRIMES']))\n",
        "arr.append(len(data2015[data2015['CRIME_TYPE'] == 'SEX CRIMES']))\n",
        "arr.append(len(data2016[data2016['CRIME_TYPE'] == 'SEX CRIMES']))\n",
        "arr.append(len(data2017[data2017['CRIME_TYPE'] == 'SEX CRIMES']))\n",
        "arr.append(len(data2018[data2018['CRIME_TYPE'] == 'SEX CRIMES']))\n",
        "arr\n",
        "plt.figure(figsize=(8, 5), dpi=100)\n",
        "plt.plot([2014, 2015, 2016, 2017, 2018], arr, color='red')\n",
        "plt.xlabel('Year')\n",
        "plt.ylabel('Number')\n",
        "plt.title('Number of SEX CRIMES')\n",
        "plt.yticks([100, 200, 300, 400, 500,600,700,800,900,1000])\n",
        "plt.xticks([2014, 2015, 2016, 2017, 2018])\n",
        "plt.show()"
      ],
      "execution_count": 28,
      "outputs": [
        {
          "output_type": "display_data",
          "data": {
            "image/png": "[encoded data removed]",
            "text/plain": [
              "<Figure size 800x500 with 1 Axes>"
            ]
          },
          "metadata": {
            "needs_background": "light"
          }
        }
      ]
    },
    {
      "cell_type": "code",
      "metadata": {
        "colab": {
          "base_uri": "https://localhost:8080/",
          "height": 445
        },
        "id": "da94ovpOU-Tg",
        "outputId": "739afe81-94ab-44b6-9792-6508675c93cc"
      },
      "source": [
        "data.head()"
      ],
      "execution_count": 29,
      "outputs": [
        {
          "output_type": "execute_result",
          "data": {
            "text/html": [
              "<div>\n",
              "<style scoped>\n",
              "    .dataframe tbody tr th:only-of-type {\n",
              "        vertical-align: middle;\n",
              "    }\n",
              "\n",
              "    .dataframe tbody tr th {\n",
              "        vertical-align: top;\n",
              "    }\n",
              "\n",
              "    .dataframe thead th {\n",
              "        text-align: right;\n",
              "    }\n",
              "</style>\n",
              "<table border=\"1\" class=\"dataframe\">\n",
              "  <thead>\n",
              "    <tr style=\"text-align: right;\">\n",
              "      <th></th>\n",
              "      <th>INCIDENT_NUMBER</th>\n",
              "      <th>DATE_REPORTED</th>\n",
              "      <th>DATE_OCCURED</th>\n",
              "      <th>UOR_DESC</th>\n",
              "      <th>CRIME_TYPE</th>\n",
              "      <th>NIBRS_CODE</th>\n",
              "      <th>UCR_HIERARCHY</th>\n",
              "      <th>ATT_COMP</th>\n",
              "      <th>LMPD_DIVISION</th>\n",
              "      <th>LMPD_BEAT</th>\n",
              "      <th>PREMISE_TYPE</th>\n",
              "      <th>BLOCK_ADDRESS</th>\n",
              "      <th>CITY</th>\n",
              "      <th>ZIP_CODE</th>\n",
              "      <th>ID</th>\n",
              "    </tr>\n",
              "  </thead>\n",
              "  <tbody>\n",
              "    <tr>\n",
              "      <th>0</th>\n",
              "      <td>80-18-037885</td>\n",
              "      <td>5/19/2018 22:16</td>\n",
              "      <td>5/19/2018 21:30</td>\n",
              "      <td>BURGLARY - 2ND DEGREE</td>\n",
              "      <td>BURGLARY</td>\n",
              "      <td>220</td>\n",
              "      <td>PART I</td>\n",
              "      <td>COMPLETED</td>\n",
              "      <td>4TH DIVISION</td>\n",
              "      <td>424</td>\n",
              "      <td>RESIDENCE / HOME</td>\n",
              "      <td>3300 BLOCK DEARCY AVE                         ...</td>\n",
              "      <td>LOUISVILLE</td>\n",
              "      <td>40215</td>\n",
              "      <td>455888</td>\n",
              "    </tr>\n",
              "    <tr>\n",
              "      <th>1</th>\n",
              "      <td>80-18-037894</td>\n",
              "      <td>5/19/2018 22:54</td>\n",
              "      <td>5/19/2018 22:40</td>\n",
              "      <td>CRIMINAL MISCHIEF-3RD DEGREE</td>\n",
              "      <td>VANDALISM</td>\n",
              "      <td>290</td>\n",
              "      <td>PART II</td>\n",
              "      <td>COMPLETED</td>\n",
              "      <td>2ND DIVISION</td>\n",
              "      <td>212</td>\n",
              "      <td>RESIDENCE / HOME</td>\n",
              "      <td>600 BLOCK LINDELL AVE                         ...</td>\n",
              "      <td>LOUISVILLE</td>\n",
              "      <td>40211</td>\n",
              "      <td>455889</td>\n",
              "    </tr>\n",
              "    <tr>\n",
              "      <th>2</th>\n",
              "      <td>80-18-032150</td>\n",
              "      <td>4/30/2018 20:37</td>\n",
              "      <td>4/30/2018 20:37</td>\n",
              "      <td>TBUT OR DISP ALL OTHERS &lt;  $500</td>\n",
              "      <td>THEFT/LARCENY</td>\n",
              "      <td>23H</td>\n",
              "      <td>PART I</td>\n",
              "      <td>COMPLETED</td>\n",
              "      <td>4TH DIVISION</td>\n",
              "      <td>412</td>\n",
              "      <td>RESIDENCE / HOME</td>\n",
              "      <td>700 BLOCK S CLAY ST                           ...</td>\n",
              "      <td>LOUISVILLE</td>\n",
              "      <td>40203</td>\n",
              "      <td>455890</td>\n",
              "    </tr>\n",
              "    <tr>\n",
              "      <th>3</th>\n",
              "      <td>80-18-037844</td>\n",
              "      <td>5/19/2018 19:19</td>\n",
              "      <td>5/18/2018 19:19</td>\n",
              "      <td>BURGLARY - 2ND DEGREE</td>\n",
              "      <td>BURGLARY</td>\n",
              "      <td>220</td>\n",
              "      <td>PART I</td>\n",
              "      <td>COMPLETED</td>\n",
              "      <td>6TH DIVISION</td>\n",
              "      <td>624</td>\n",
              "      <td>RESIDENCE / HOME</td>\n",
              "      <td>200 BLOCK ELDORADO AVE                        ...</td>\n",
              "      <td>LOUISVILLE</td>\n",
              "      <td>40218</td>\n",
              "      <td>455891</td>\n",
              "    </tr>\n",
              "    <tr>\n",
              "      <th>4</th>\n",
              "      <td>80-18-037844</td>\n",
              "      <td>5/19/2018 19:19</td>\n",
              "      <td>5/18/2018 19:19</td>\n",
              "      <td>CRIMINAL MISCHIEF-3RD DEGREE</td>\n",
              "      <td>VANDALISM</td>\n",
              "      <td>290</td>\n",
              "      <td>PART II</td>\n",
              "      <td>COMPLETED</td>\n",
              "      <td>6TH DIVISION</td>\n",
              "      <td>624</td>\n",
              "      <td>RESIDENCE / HOME</td>\n",
              "      <td>200 BLOCK ELDORADO AVE                        ...</td>\n",
              "      <td>LOUISVILLE</td>\n",
              "      <td>40218</td>\n",
              "      <td>455892</td>\n",
              "    </tr>\n",
              "  </tbody>\n",
              "</table>\n",
              "</div>"
            ],
            "text/plain": [
              "  INCIDENT_NUMBER    DATE_REPORTED  ... ZIP_CODE      ID\n",
              "0    80-18-037885  5/19/2018 22:16  ...    40215  455888\n",
              "1    80-18-037894  5/19/2018 22:54  ...    40211  455889\n",
              "2    80-18-032150  4/30/2018 20:37  ...    40203  455890\n",
              "3    80-18-037844  5/19/2018 19:19  ...    40218  455891\n",
              "4    80-18-037844  5/19/2018 19:19  ...    40218  455892\n",
              "\n",
              "[5 rows x 15 columns]"
            ]
          },
          "metadata": {},
          "execution_count": 29
        }
      ]
    },
    {
      "cell_type": "code",
      "metadata": {
        "id": "bne3yhHwc5eX"
      },
      "source": [
        "data2018['diffrence_time'] = pd.to_datetime(data2018['DATE_REPORTED']) - pd.to_datetime(data2018['DATE_OCCURED'])\n",
        "data2017['diffrence_time'] = pd.to_datetime(data2017['DATE_REPORTED']) - pd.to_datetime(data2017['DATE_OCCURED'])"
      ],
      "execution_count": 30,
      "outputs": []
    },
    {
      "cell_type": "code",
      "metadata": {
        "id": "xKk8OgZhhb16"
      },
      "source": [
        "arr = [x.total_seconds() for x in data2018['diffrence_time']]\n",
        "data2018['diffrence_time'] = arr\n",
        "data2018['diffrence_time'] = data2018['diffrence_time']/3600\n",
        "arr = [x.total_seconds() for x in data2017['diffrence_time']]\n",
        "data2017['diffrence_time'] = arr\n",
        "data2017['diffrence_time'] = data2017['diffrence_time']/3600"
      ],
      "execution_count": 31,
      "outputs": []
    },
    {
      "cell_type": "code",
      "metadata": {
        "colab": {
          "base_uri": "https://localhost:8080/"
        },
        "id": "68kO1bhWjT7g",
        "outputId": "1b2227af-895d-4613-a611-0a9dba50086d"
      },
      "source": [
        "list(data2018['CRIME_TYPE'].unique())"
      ],
      "execution_count": 32,
      "outputs": [
        {
          "output_type": "execute_result",
          "data": {
            "text/plain": [
              "['BURGLARY',\n",
              " 'VANDALISM',\n",
              " 'THEFT/LARCENY',\n",
              " 'FRAUD',\n",
              " 'VEHICLE BREAK-IN/THEFT',\n",
              " 'ASSAULT',\n",
              " 'DRUGS/ALCOHOL VIOLATIONS',\n",
              " 'OTHER',\n",
              " 'ROBBERY',\n",
              " 'WEAPONS',\n",
              " 'SEX CRIMES',\n",
              " 'MOTOR VEHICLE THEFT',\n",
              " 'HOMICIDE',\n",
              " 'DISTURBING THE PEACE',\n",
              " 'ARSON',\n",
              " 'DUI']"
            ]
          },
          "metadata": {},
          "execution_count": 32
        }
      ]
    },
    {
      "cell_type": "code",
      "metadata": {
        "id": "XIaZTu6Ridwc"
      },
      "source": [
        "arr = []\n",
        "s = list(data2018['CRIME_TYPE'].unique())\n",
        "for string in s:\n",
        "  sumation = sum(data2018[data2018['CRIME_TYPE'] == string]['diffrence_time'])\n",
        "  size = len(data2018[data2018['CRIME_TYPE'] == string]['diffrence_time'])\n",
        "  arr.append(sumation/size)"
      ],
      "execution_count": 53,
      "outputs": []
    },
    {
      "cell_type": "code",
      "metadata": {
        "colab": {
          "base_uri": "https://localhost:8080/"
        },
        "id": "Tj5rDk2L3t58",
        "outputId": "83203833-43b2-470d-9826-a0ec5510fbd2"
      },
      "source": [
        "arr[10]"
      ],
      "execution_count": 54,
      "outputs": [
        {
          "output_type": "execute_result",
          "data": {
            "text/plain": [
              "21364.789189189178"
            ]
          },
          "metadata": {},
          "execution_count": 54
        }
      ]
    },
    {
      "cell_type": "code",
      "metadata": {
        "colab": {
          "base_uri": "https://localhost:8080/",
          "height": 507
        },
        "id": "YF4g3PnekBqp",
        "outputId": "4a0244f4-be21-484a-94e0-13cde8fcc6db"
      },
      "source": [
        "plt.scatter(s, arr)\n",
        "plt.xlabel('Crimes')\n",
        "plt.ylabel('Delay in reporting (hour)')\n",
        "plt.title('Which crimes take the longest to report in 2018?')\n",
        "plt.yticks([1000,2000, 4000, 6000, 8000, 10000, 12000, 14000,16000,18000,20000],['1k','2k','4k','6k','8k','10k','12k','14k','16k','18k','20k'])\n",
        "plt.xticks(s,rotation=45)\n",
        "fig = plt.gcf()\n",
        "fig.set_size_inches(20, 6, forward=True)\n",
        "plt.show()"
      ],
      "execution_count": 43,
      "outputs": [
        {
          "output_type": "display_data",
          "data": {
            "image/png": "[encoded data removed]",
            "text/plain": [
              "<Figure size 1440x432 with 1 Axes>"
            ]
          },
          "metadata": {
            "needs_background": "light"
          }
        }
      ]
    },
    {
      "cell_type": "code",
      "metadata": {
        "id": "bdsUBE2PsEKO"
      },
      "source": [
        "arr = []\n",
        "s = list(data2017['CRIME_TYPE'].unique())\n",
        "for string in s:\n",
        "  sumation = sum(data2017[data2017['CRIME_TYPE'] == string]['diffrence_time'])\n",
        "  size = len(data2017[data2017['CRIME_TYPE'] == string]['diffrence_time'])\n",
        "  arr.append(sumation/size)"
      ],
      "execution_count": 55,
      "outputs": []
    },
    {
      "cell_type": "code",
      "metadata": {
        "colab": {
          "base_uri": "https://localhost:8080/"
        },
        "id": "19uSbKrc4kiG",
        "outputId": "37ad2df1-7a94-4712-ebe4-38de9e687a0e"
      },
      "source": [
        "arr[12]"
      ],
      "execution_count": 56,
      "outputs": [
        {
          "output_type": "execute_result",
          "data": {
            "text/plain": [
              "12139.249150326794"
            ]
          },
          "metadata": {},
          "execution_count": 56
        }
      ]
    },
    {
      "cell_type": "code",
      "metadata": {
        "colab": {
          "base_uri": "https://localhost:8080/",
          "height": 507
        },
        "id": "T0hQ3dmLsjlO",
        "outputId": "295b0c44-876d-4195-8ca6-b4902e55bdd1"
      },
      "source": [
        "plt.scatter(s, arr)\n",
        "plt.xlabel('Crimes')\n",
        "plt.ylabel('Delay in reporting (hour)')\n",
        "plt.title('Which crimes take the longest to report in 2017?')\n",
        "plt.yticks([1000,2000, 4000, 6000, 8000, 10000, 12000, 14000],['1k','2k','4k','6k','8k','10k','12k','14k'])\n",
        "plt.xticks(s,rotation=45)\n",
        "fig = plt.gcf()\n",
        "fig.set_size_inches(20, 6, forward=True)\n",
        "plt.show()"
      ],
      "execution_count": 45,
      "outputs": [
        {
          "output_type": "display_data",
          "data": {
            "image/png": "[encoded data removed]",
            "text/plain": [
              "<Figure size 1440x432 with 1 Axes>"
            ]
          },
          "metadata": {
            "needs_background": "light"
          }
        }
      ]
    }
  ]
}